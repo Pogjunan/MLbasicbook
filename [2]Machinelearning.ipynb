{
 "cells": [
  {
   "cell_type": "code",
   "execution_count": 1,
   "id": "0bbc63fd-bb7d-40e2-b985-876f62e4d2dd",
   "metadata": {
    "tags": []
   },
   "outputs": [],
   "source": [
    "import numpy as np\n",
    "import pandas as pd\n",
    "import matplotlib.pyplot as plt\n",
    "import sklearn.linear_model"
   ]
  },
  {
   "cell_type": "code",
   "execution_count": 2,
   "id": "36969d3e-c0fb-4439-9b58-4e9e5b63bb01",
   "metadata": {
    "tags": []
   },
   "outputs": [],
   "source": [
    "temp = pd.read_csv('https://raw.githubusercontent.com/guebin/DV2022/master/posts/temp.csv').iloc[:,3].to_numpy()[:100]\n",
    "temp.sort()"
   ]
  },
  {
   "cell_type": "code",
   "execution_count": 3,
   "id": "667dff27-4cac-4a75-8ecb-70d57cd6fee3",
   "metadata": {
    "tags": []
   },
   "outputs": [],
   "source": [
    "np.random.seed(43052)\n",
    "eps = np.random.randn(100)*3 # 오차\n",
    "icecream_sales = 20 + temp * 2.5 + eps "
   ]
  },
  {
   "cell_type": "code",
   "execution_count": 5,
   "id": "f2409900-411d-499a-9965-466821e65609",
   "metadata": {
    "tags": []
   },
   "outputs": [
    {
     "data": {
      "text/plain": [
       "[<matplotlib.lines.Line2D at 0x7fc0ad38dba0>]"
      ]
     },
     "execution_count": 5,
     "metadata": {},
     "output_type": "execute_result"
    },
    {
     "data": {
      "image/png": "[encoded data removed]",
      "text/plain": [
       "<Figure size 640x480 with 1 Axes>"
      ]
     },
     "metadata": {},
     "output_type": "display_data"
    }
   ],
   "source": [
    "plt.plot(temp,icecream_sales,'o') # 20+ 2.5x 로 그냥 오차넣고 그냥 만들었음."
   ]
  },
  {
   "cell_type": "code",
   "execution_count": 6,
   "id": "e3272372-c832-4b2a-b639-a4e353687b1c",
   "metadata": {
    "tags": []
   },
   "outputs": [
    {
     "data": {
      "text/html": [
       "<div>\n",
       "<style scoped>\n",
       "    .dataframe tbody tr th:only-of-type {\n",
       "        vertical-align: middle;\n",
       "    }\n",
       "\n",
       "    .dataframe tbody tr th {\n",
       "        vertical-align: top;\n",
       "    }\n",
       "\n",
       "    .dataframe thead th {\n",
       "        text-align: right;\n",
       "    }\n",
       "</style>\n",
       "<table border=\"1\" class=\"dataframe\">\n",
       "  <thead>\n",
       "    <tr style=\"text-align: right;\">\n",
       "      <th></th>\n",
       "      <th>temp</th>\n",
       "      <th>sales</th>\n",
       "    </tr>\n",
       "  </thead>\n",
       "  <tbody>\n",
       "    <tr>\n",
       "      <th>0</th>\n",
       "      <td>-4.1</td>\n",
       "      <td>10.900261</td>\n",
       "    </tr>\n",
       "    <tr>\n",
       "      <th>1</th>\n",
       "      <td>-3.7</td>\n",
       "      <td>14.002524</td>\n",
       "    </tr>\n",
       "    <tr>\n",
       "      <th>2</th>\n",
       "      <td>-3.0</td>\n",
       "      <td>15.928335</td>\n",
       "    </tr>\n",
       "    <tr>\n",
       "      <th>3</th>\n",
       "      <td>-1.3</td>\n",
       "      <td>17.673681</td>\n",
       "    </tr>\n",
       "    <tr>\n",
       "      <th>4</th>\n",
       "      <td>-0.5</td>\n",
       "      <td>19.463362</td>\n",
       "    </tr>\n",
       "    <tr>\n",
       "      <th>...</th>\n",
       "      <td>...</td>\n",
       "      <td>...</td>\n",
       "    </tr>\n",
       "    <tr>\n",
       "      <th>95</th>\n",
       "      <td>12.4</td>\n",
       "      <td>54.926065</td>\n",
       "    </tr>\n",
       "    <tr>\n",
       "      <th>96</th>\n",
       "      <td>13.4</td>\n",
       "      <td>54.716129</td>\n",
       "    </tr>\n",
       "    <tr>\n",
       "      <th>97</th>\n",
       "      <td>14.7</td>\n",
       "      <td>56.194791</td>\n",
       "    </tr>\n",
       "    <tr>\n",
       "      <th>98</th>\n",
       "      <td>15.0</td>\n",
       "      <td>60.666163</td>\n",
       "    </tr>\n",
       "    <tr>\n",
       "      <th>99</th>\n",
       "      <td>15.2</td>\n",
       "      <td>61.561043</td>\n",
       "    </tr>\n",
       "  </tbody>\n",
       "</table>\n",
       "<p>100 rows × 2 columns</p>\n",
       "</div>"
      ],
      "text/plain": [
       "    temp      sales\n",
       "0   -4.1  10.900261\n",
       "1   -3.7  14.002524\n",
       "2   -3.0  15.928335\n",
       "3   -1.3  17.673681\n",
       "4   -0.5  19.463362\n",
       "..   ...        ...\n",
       "95  12.4  54.926065\n",
       "96  13.4  54.716129\n",
       "97  14.7  56.194791\n",
       "98  15.0  60.666163\n",
       "99  15.2  61.561043\n",
       "\n",
       "[100 rows x 2 columns]"
      ]
     },
     "execution_count": 6,
     "metadata": {},
     "output_type": "execute_result"
    }
   ],
   "source": [
    "df_train = pd.DataFrame({'temp':temp,'sales':icecream_sales})\n",
    "df_train"
   ]
  },
  {
   "cell_type": "markdown",
   "id": "af93156f-5276-4288-9153-c9389304d2a9",
   "metadata": {},
   "source": [
    "# `-` 범주형 데이터가 껴있다면?\n",
    "\n",
    "### - 범주형데이터가 있으면 linearRegression 시에 X 를 X.get_dummies 로 **원핫인코딩화**시켜서 이용하면 X 의 숨은 의미를 잘 이해할 수 있다.\n",
    "### (참고로 X.get_dummies 를 이용하더라도 다른 코드는 변경할 필요없이 자동으로 sklearn 패키지내에서 잘 계산된다.)\n",
    "\n"
   ]
  },
  {
   "cell_type": "markdown",
   "id": "4036c4ce-72b6-4227-a37b-f9626fca52f6",
   "metadata": {
    "tags": []
   },
   "source": [
    "# `-` 로지스틱모형이라면?\n",
    "\n",
    "### - 우리가 필요한 것 : 0 과 1 구분이라면 linearRegression -> LogisticRegression 사용하면되고 위의 코드와 동일하게 사용하면된다.\n",
    "\n",
    "### - 로지스틱은 딥러닝에서 자주 만나는 순전파와 역전파를 다루는데 간략하게 기봅ㄴ적으로 100번하여 0과 1을 구분시킨다곻란다. (-https://www.youtube.com/watch?v=m7oSyX4QCwY : 이해 유튜브영상)\n"
   ]
  },
  {
   "cell_type": "markdown",
   "id": "691cf1b6-3004-4278-9880-8a383551bf13",
   "metadata": {
    "tags": []
   },
   "source": [
    "-----"
   ]
  },
  {
   "cell_type": "markdown",
   "id": "722fcfcd-91ec-46a6-a57f-3e8e67cd9ba4",
   "metadata": {},
   "source": [
    "# `-` X 가 변수가 많을 때 Logistic 의 실패 가능성\n",
    "\n",
    "### - Titanic 에서 Logistic 회귀시에 문제가 생긴다. 그 이유는 결측치가 많기 때문이다. 결측치를 제거해보자.\n"
   ]
  },
  {
   "cell_type": "markdown",
   "id": "f3c102d2-8425-4f35-a164-af151967e449",
   "metadata": {
    "tags": []
   },
   "source": [
    "## `!` msno"
   ]
  },
  {
   "cell_type": "code",
   "execution_count": 11,
   "id": "8ce82dbd-2900-4067-adf5-7eb14906e4ba",
   "metadata": {
    "tags": []
   },
   "outputs": [],
   "source": [
    "import missingno as msno"
   ]
  },
  {
   "cell_type": "code",
   "execution_count": 12,
   "id": "9b9b096b-f8b2-48c4-8107-d9737930bdc0",
   "metadata": {
    "tags": []
   },
   "outputs": [
    {
     "data": {
      "text/html": [
       "<div>\n",
       "<style scoped>\n",
       "    .dataframe tbody tr th:only-of-type {\n",
       "        vertical-align: middle;\n",
       "    }\n",
       "\n",
       "    .dataframe tbody tr th {\n",
       "        vertical-align: top;\n",
       "    }\n",
       "\n",
       "    .dataframe thead th {\n",
       "        text-align: right;\n",
       "    }\n",
       "</style>\n",
       "<table border=\"1\" class=\"dataframe\">\n",
       "  <thead>\n",
       "    <tr style=\"text-align: right;\">\n",
       "      <th></th>\n",
       "      <th>A</th>\n",
       "      <th>B</th>\n",
       "      <th>C</th>\n",
       "      <th>D</th>\n",
       "      <th>E</th>\n",
       "    </tr>\n",
       "  </thead>\n",
       "  <tbody>\n",
       "    <tr>\n",
       "      <th>0</th>\n",
       "      <td>0.383420</td>\n",
       "      <td>1.385096</td>\n",
       "      <td>NaN</td>\n",
       "      <td>-0.545132</td>\n",
       "      <td>-0.732395</td>\n",
       "    </tr>\n",
       "    <tr>\n",
       "      <th>1</th>\n",
       "      <td>1.084175</td>\n",
       "      <td>0.080613</td>\n",
       "      <td>-0.770527</td>\n",
       "      <td>-0.272143</td>\n",
       "      <td>-0.749881</td>\n",
       "    </tr>\n",
       "    <tr>\n",
       "      <th>2</th>\n",
       "      <td>1.142778</td>\n",
       "      <td>1.258419</td>\n",
       "      <td>NaN</td>\n",
       "      <td>-0.072007</td>\n",
       "      <td>-0.440757</td>\n",
       "    </tr>\n",
       "    <tr>\n",
       "      <th>3</th>\n",
       "      <td>0.307894</td>\n",
       "      <td>0.521400</td>\n",
       "      <td>0.446974</td>\n",
       "      <td>0.329530</td>\n",
       "      <td>-1.457388</td>\n",
       "    </tr>\n",
       "    <tr>\n",
       "      <th>4</th>\n",
       "      <td>0.237787</td>\n",
       "      <td>0.132401</td>\n",
       "      <td>-0.516630</td>\n",
       "      <td>0.177995</td>\n",
       "      <td>0.416182</td>\n",
       "    </tr>\n",
       "    <tr>\n",
       "      <th>...</th>\n",
       "      <td>...</td>\n",
       "      <td>...</td>\n",
       "      <td>...</td>\n",
       "      <td>...</td>\n",
       "      <td>...</td>\n",
       "    </tr>\n",
       "    <tr>\n",
       "      <th>995</th>\n",
       "      <td>0.041092</td>\n",
       "      <td>-1.308165</td>\n",
       "      <td>1.085820</td>\n",
       "      <td>1.136210</td>\n",
       "      <td>NaN</td>\n",
       "    </tr>\n",
       "    <tr>\n",
       "      <th>996</th>\n",
       "      <td>-1.286358</td>\n",
       "      <td>1.547987</td>\n",
       "      <td>NaN</td>\n",
       "      <td>-0.174334</td>\n",
       "      <td>-0.579486</td>\n",
       "    </tr>\n",
       "    <tr>\n",
       "      <th>997</th>\n",
       "      <td>0.710257</td>\n",
       "      <td>1.764058</td>\n",
       "      <td>NaN</td>\n",
       "      <td>-0.353928</td>\n",
       "      <td>NaN</td>\n",
       "    </tr>\n",
       "    <tr>\n",
       "      <th>998</th>\n",
       "      <td>-1.908729</td>\n",
       "      <td>-0.804691</td>\n",
       "      <td>NaN</td>\n",
       "      <td>NaN</td>\n",
       "      <td>-0.066739</td>\n",
       "    </tr>\n",
       "    <tr>\n",
       "      <th>999</th>\n",
       "      <td>0.650026</td>\n",
       "      <td>2.206549</td>\n",
       "      <td>NaN</td>\n",
       "      <td>-0.919945</td>\n",
       "      <td>NaN</td>\n",
       "    </tr>\n",
       "  </tbody>\n",
       "</table>\n",
       "<p>1000 rows × 5 columns</p>\n",
       "</div>"
      ],
      "text/plain": [
       "            A         B         C         D         E\n",
       "0    0.383420  1.385096       NaN -0.545132 -0.732395\n",
       "1    1.084175  0.080613 -0.770527 -0.272143 -0.749881\n",
       "2    1.142778  1.258419       NaN -0.072007 -0.440757\n",
       "3    0.307894  0.521400  0.446974  0.329530 -1.457388\n",
       "4    0.237787  0.132401 -0.516630  0.177995  0.416182\n",
       "..        ...       ...       ...       ...       ...\n",
       "995  0.041092 -1.308165  1.085820  1.136210       NaN\n",
       "996 -1.286358  1.547987       NaN -0.174334 -0.579486\n",
       "997  0.710257  1.764058       NaN -0.353928       NaN\n",
       "998 -1.908729 -0.804691       NaN       NaN -0.066739\n",
       "999  0.650026  2.206549       NaN -0.919945       NaN\n",
       "\n",
       "[1000 rows x 5 columns]"
      ]
     },
     "execution_count": 12,
     "metadata": {},
     "output_type": "execute_result"
    }
   ],
   "source": [
    "df = pd.read_csv(\"https://raw.githubusercontent.com/guebin/MP2023/main/posts/msno.csv\")\n",
    "df"
   ]
  },
  {
   "cell_type": "code",
   "execution_count": 13,
   "id": "50f21e7a-34eb-4a50-827d-604ea0d30b6e",
   "metadata": {
    "tags": []
   },
   "outputs": [
    {
     "name": "stdout",
     "output_type": "stream",
     "text": [
      "<class 'pandas.core.frame.DataFrame'>\n",
      "RangeIndex: 1000 entries, 0 to 999\n",
      "Data columns (total 5 columns):\n",
      " #   Column  Non-Null Count  Dtype  \n",
      "---  ------  --------------  -----  \n",
      " 0   A       668 non-null    float64\n",
      " 1   B       656 non-null    float64\n",
      " 2   C       608 non-null    float64\n",
      " 3   D       668 non-null    float64\n",
      " 4   E       660 non-null    float64\n",
      "dtypes: float64(5)\n",
      "memory usage: 39.2 KB\n"
     ]
    }
   ],
   "source": [
    "df.info()"
   ]
  },
  {
   "cell_type": "code",
   "execution_count": 24,
   "id": "8b0f5c50-36f0-4a9d-b6c5-547bb2047168",
   "metadata": {
    "tags": []
   },
   "outputs": [
    {
     "data": {
      "text/plain": [
       "<AxesSubplot: >"
      ]
     },
     "execution_count": 24,
     "metadata": {},
     "output_type": "execute_result"
    },
    {
     "data": {
      "text/plain": [
       "<Figure size 200x100 with 0 Axes>"
      ]
     },
     "metadata": {},
     "output_type": "display_data"
    },
    {
     "data": {
      "image/png": "[encoded data removed]",
      "text/plain": [
       "<Figure size 500x300 with 2 Axes>"
      ]
     },
     "metadata": {},
     "output_type": "display_data"
    }
   ],
   "source": [
    "plt.figure(figsize=(2,1))\n",
    "#msno.matrix(df) # 결측치보기 가장 편함 흰색있으면 겨륵치다.\n",
    "msno.matrix(df, figsize=(5, 3))"
   ]
  },
  {
   "cell_type": "code",
   "execution_count": 26,
   "id": "13163bc9-f496-421a-9375-c4d518f07724",
   "metadata": {
    "tags": []
   },
   "outputs": [
    {
     "data": {
      "text/plain": [
       "<AxesSubplot: >"
      ]
     },
     "execution_count": 26,
     "metadata": {},
     "output_type": "execute_result"
    },
    {
     "data": {
      "text/plain": [
       "<Figure size 500x300 with 0 Axes>"
      ]
     },
     "metadata": {},
     "output_type": "display_data"
    },
    {
     "data": {
      "image/png": "[encoded data removed]",
      "text/plain": [
       "<Figure size 600x400 with 2 Axes>"
      ]
     },
     "metadata": {},
     "output_type": "display_data"
    }
   ],
   "source": [
    "plt.figure(figsize=(5,3))\n",
    "msno.heatmap(df,figsize=(6,4))"
   ]
  },
  {
   "cell_type": "code",
   "execution_count": 27,
   "id": "53cabeb4-cb77-4b1e-b94b-ea60d4898592",
   "metadata": {
    "tags": []
   },
   "outputs": [
    {
     "data": {
      "text/plain": [
       "<AxesSubplot: >"
      ]
     },
     "execution_count": 27,
     "metadata": {},
     "output_type": "execute_result"
    },
    {
     "data": {
      "image/png": "[encoded data removed]",
      "text/plain": [
       "<Figure size 700x500 with 1 Axes>"
      ]
     },
     "metadata": {},
     "output_type": "display_data"
    }
   ],
   "source": [
    "msno.dendrogram(df,figsize=(7,5))"
   ]
  },
  {
   "cell_type": "code",
   "execution_count": 28,
   "id": "9afcda84-4fb7-4a55-95d8-947a89c71b8a",
   "metadata": {
    "tags": []
   },
   "outputs": [],
   "source": [
    "import numpy as np\n",
    "import pandas as pd \n",
    "import sklearn.impute"
   ]
  },
  {
   "cell_type": "code",
   "execution_count": 31,
   "id": "a6a1ad76-9104-4040-be46-294aa1b653d1",
   "metadata": {
    "tags": []
   },
   "outputs": [
    {
     "data": {
      "text/html": [
       "<div>\n",
       "<style scoped>\n",
       "    .dataframe tbody tr th:only-of-type {\n",
       "        vertical-align: middle;\n",
       "    }\n",
       "\n",
       "    .dataframe tbody tr th {\n",
       "        vertical-align: top;\n",
       "    }\n",
       "\n",
       "    .dataframe thead th {\n",
       "        text-align: right;\n",
       "    }\n",
       "</style>\n",
       "<table border=\"1\" class=\"dataframe\">\n",
       "  <thead>\n",
       "    <tr style=\"text-align: right;\">\n",
       "      <th></th>\n",
       "      <th>A</th>\n",
       "      <th>B</th>\n",
       "    </tr>\n",
       "  </thead>\n",
       "  <tbody>\n",
       "    <tr>\n",
       "      <th>0</th>\n",
       "      <td>2.1</td>\n",
       "      <td>0.0</td>\n",
       "    </tr>\n",
       "    <tr>\n",
       "      <th>1</th>\n",
       "      <td>1.9</td>\n",
       "      <td>0.0</td>\n",
       "    </tr>\n",
       "    <tr>\n",
       "      <th>2</th>\n",
       "      <td>2.2</td>\n",
       "      <td>NaN</td>\n",
       "    </tr>\n",
       "    <tr>\n",
       "      <th>3</th>\n",
       "      <td>NaN</td>\n",
       "      <td>0.0</td>\n",
       "    </tr>\n",
       "    <tr>\n",
       "      <th>4</th>\n",
       "      <td>1.9</td>\n",
       "      <td>0.0</td>\n",
       "    </tr>\n",
       "  </tbody>\n",
       "</table>\n",
       "</div>"
      ],
      "text/plain": [
       "     A    B\n",
       "0  2.1  0.0\n",
       "1  1.9  0.0\n",
       "2  2.2  NaN\n",
       "3  NaN  0.0\n",
       "4  1.9  0.0"
      ]
     },
     "execution_count": 31,
     "metadata": {},
     "output_type": "execute_result"
    }
   ],
   "source": [
    "df = pd.DataFrame({'A':[2.1,1.9,2.2,np.nan,1.9], 'B':[0,0,np.nan,0,0]})\n",
    "df"
   ]
  },
  {
   "cell_type": "code",
   "execution_count": 32,
   "id": "aa43a3a1-c579-4130-8d69-4bbc9ad44528",
   "metadata": {
    "tags": []
   },
   "outputs": [
    {
     "data": {
      "text/plain": [
       "array([[2.1  , 0.   ],\n",
       "       [1.9  , 0.   ],\n",
       "       [2.2  , 0.   ],\n",
       "       [2.025, 0.   ],\n",
       "       [1.9  , 0.   ]])"
      ]
     },
     "execution_count": 32,
     "metadata": {},
     "output_type": "execute_result"
    }
   ],
   "source": [
    "imputer = sklearn.impute.SimpleImputer()\n",
    "imputer.fit(df)\n",
    "imputer.transform(df)"
   ]
  },
  {
   "cell_type": "code",
   "execution_count": 33,
   "id": "a1c34c92-1c9d-4fae-8d91-0d807807d4cb",
   "metadata": {
    "tags": []
   },
   "outputs": [
    {
     "data": {
      "text/plain": [
       "array([[2.1  , 0.   ],\n",
       "       [1.9  , 0.   ],\n",
       "       [2.2  , 0.   ],\n",
       "       [2.025, 0.   ],\n",
       "       [1.9  , 0.   ]])"
      ]
     },
     "execution_count": 33,
     "metadata": {},
     "output_type": "execute_result"
    }
   ],
   "source": [
    "imputer = sklearn.impute.SimpleImputer()\n",
    "imputer.fit_transform(df)"
   ]
  },
  {
   "cell_type": "code",
   "execution_count": 34,
   "id": "cb38f5ea-94f4-4715-ad03-1e5e1b666601",
   "metadata": {
    "tags": []
   },
   "outputs": [
    {
     "data": {
      "text/plain": [
       "array([[2.1  , 0.   ],\n",
       "       [1.9  , 0.   ],\n",
       "       [2.2  , 0.   ],\n",
       "       [2.025, 0.   ],\n",
       "       [1.9  , 0.   ]])"
      ]
     },
     "execution_count": 34,
     "metadata": {},
     "output_type": "execute_result"
    }
   ],
   "source": [
    "imputer = sklearn.impute.SimpleImputer(strategy='mean')\n",
    "imputer.fit_transform(df)"
   ]
  },
  {
   "cell_type": "code",
   "execution_count": 35,
   "id": "2b59bf54-e345-4f33-aaa2-f7aea96f0d96",
   "metadata": {
    "tags": []
   },
   "outputs": [
    {
     "data": {
      "text/plain": [
       "array([[2.1, 0. ],\n",
       "       [1.9, 0. ],\n",
       "       [2.2, 0. ],\n",
       "       [1.9, 0. ],\n",
       "       [1.9, 0. ]])"
      ]
     },
     "execution_count": 35,
     "metadata": {},
     "output_type": "execute_result"
    }
   ],
   "source": [
    "imputer = sklearn.impute.SimpleImputer(strategy='most_frequent')\n",
    "imputer.fit_transform(df)"
   ]
  },
  {
   "cell_type": "code",
   "execution_count": 36,
   "id": "5caea4bc-f2c3-4dc4-a1c3-1791fcee7087",
   "metadata": {
    "tags": []
   },
   "outputs": [
    {
     "data": {
      "text/plain": [
       "array([[   2.1,    0. ],\n",
       "       [   1.9,    0. ],\n",
       "       [   2.2, -999. ],\n",
       "       [-999. ,    0. ],\n",
       "       [   1.9,    0. ]])"
      ]
     },
     "execution_count": 36,
     "metadata": {},
     "output_type": "execute_result"
    }
   ],
   "source": [
    "imputer = sklearn.impute.SimpleImputer(strategy='constant',fill_value=-999)\n",
    "imputer.fit_transform(df)"
   ]
  },
  {
   "cell_type": "markdown",
   "id": "82d8468d-3b09-4030-96f9-deb393e9687a",
   "metadata": {
    "tags": []
   },
   "source": [
    "# `-` 결측치 없애기 일반화"
   ]
  },
  {
   "cell_type": "code",
   "execution_count": 38,
   "id": "71f57e68-afeb-42b8-8368-da9a2f104e51",
   "metadata": {
    "tags": []
   },
   "outputs": [],
   "source": [
    "def impute_missing(df):\n",
    "    df_imputed = df.copy()\n",
    "    df_num = df.select_dtypes(include=\"number\")\n",
    "    df_cat = df.select_dtypes(exclude=\"number\")\n",
    "    df_imputed[df_num.columns] = sklearn.impute.SimpleImputer().fit_transform(df_num) \n",
    "    df_imputed[df_cat.columns] = sklearn.impute.SimpleImputer(strategy='most_frequent').fit_transform(df_cat) \n",
    "    return df_imputed"
   ]
  },
  {
   "cell_type": "code",
   "execution_count": 39,
   "id": "76d1eb41-c199-44df-b0bf-7aa4a8b74a0b",
   "metadata": {
    "tags": []
   },
   "outputs": [],
   "source": [
    "# impute_missing(df_test) 이렇게쓰면된다."
   ]
  },
  {
   "cell_type": "code",
   "execution_count": null,
   "id": "c39b84e9-4567-4de8-afe4-eeba1bd5cf70",
   "metadata": {},
   "outputs": [],
   "source": []
  }
 ],
 "metadata": {
  "kernelspec": {
   "display_name": "Python (hf)",
   "language": "python",
   "name": "hf"
  },
  "language_info": {
   "codemirror_mode": {
    "name": "ipython",
    "version": 3
   },
   "file_extension": ".py",
   "mimetype": "text/x-python",
   "name": "python",
   "nbconvert_exporter": "python",
   "pygments_lexer": "ipython3",
   "version": "3.10.13"
  }
 },
 "nbformat": 4,
 "nbformat_minor": 5
}
