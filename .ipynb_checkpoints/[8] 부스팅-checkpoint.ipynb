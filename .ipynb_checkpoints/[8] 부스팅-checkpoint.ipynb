{
 "cells": [
  {
   "cell_type": "markdown",
   "id": "669d9b0e-d18d-4405-965f-06e09b191e41",
   "metadata": {
    "tags": []
   },
   "source": [
    "# [8] 부스팅 -Boosting\n",
    "`-` 의사결정나무의 최종 진화형\n",
    " - table data 분석하는 가장 좋은 아이디어\n",
    " - ex) LightGBM , XGBoost , CatBoost\n",
    " - tabular 대회에서도 가장 우승많이한 아이디어"
   ]
  },
  {
   "cell_type": "markdown",
   "id": "1573b0a4-b69a-45a6-889a-9734b01744ec",
   "metadata": {},
   "source": [
    "# `-` 주요 키워드\n",
    "- 랜덤포레스트 : 다양성\n",
    "- 부스팅 : 성장"
   ]
  },
  {
   "cell_type": "code",
   "execution_count": 4,
   "id": "6328f709-4dc3-482d-b6ef-94c385c5cad1",
   "metadata": {
    "tags": []
   },
   "outputs": [],
   "source": [
    "import numpy as np\n",
    "import pandas as pd\n",
    "import matplotlib.pyplot as plt\n",
    "import sklearn.tree\n",
    "import sklearn.ensemble\n",
    "#---#\n",
    "import warnings\n",
    "warnings.filterwarnings('ignore')\n",
    "#---#\n",
    "import matplotlib.animation\n",
    "import IPython"
   ]
  },
  {
   "cell_type": "code",
   "execution_count": 5,
   "id": "47f08730-d9ce-4adb-b059-a111acd47f42",
   "metadata": {
    "tags": []
   },
   "outputs": [
    {
     "data": {
      "text/html": [
       "<div>\n",
       "<style scoped>\n",
       "    .dataframe tbody tr th:only-of-type {\n",
       "        vertical-align: middle;\n",
       "    }\n",
       "\n",
       "    .dataframe tbody tr th {\n",
       "        vertical-align: top;\n",
       "    }\n",
       "\n",
       "    .dataframe thead th {\n",
       "        text-align: right;\n",
       "    }\n",
       "</style>\n",
       "<table border=\"1\" class=\"dataframe\">\n",
       "  <thead>\n",
       "    <tr style=\"text-align: right;\">\n",
       "      <th></th>\n",
       "      <th>temp</th>\n",
       "      <th>sales</th>\n",
       "    </tr>\n",
       "  </thead>\n",
       "  <tbody>\n",
       "    <tr>\n",
       "      <th>0</th>\n",
       "      <td>-4.1</td>\n",
       "      <td>10.900261</td>\n",
       "    </tr>\n",
       "    <tr>\n",
       "      <th>1</th>\n",
       "      <td>-3.7</td>\n",
       "      <td>14.002524</td>\n",
       "    </tr>\n",
       "    <tr>\n",
       "      <th>2</th>\n",
       "      <td>-3.0</td>\n",
       "      <td>15.928335</td>\n",
       "    </tr>\n",
       "    <tr>\n",
       "      <th>3</th>\n",
       "      <td>-1.3</td>\n",
       "      <td>17.673681</td>\n",
       "    </tr>\n",
       "    <tr>\n",
       "      <th>4</th>\n",
       "      <td>-0.5</td>\n",
       "      <td>19.463362</td>\n",
       "    </tr>\n",
       "    <tr>\n",
       "      <th>...</th>\n",
       "      <td>...</td>\n",
       "      <td>...</td>\n",
       "    </tr>\n",
       "    <tr>\n",
       "      <th>75</th>\n",
       "      <td>9.7</td>\n",
       "      <td>50.813741</td>\n",
       "    </tr>\n",
       "    <tr>\n",
       "      <th>76</th>\n",
       "      <td>10.3</td>\n",
       "      <td>42.304739</td>\n",
       "    </tr>\n",
       "    <tr>\n",
       "      <th>77</th>\n",
       "      <td>10.6</td>\n",
       "      <td>45.662019</td>\n",
       "    </tr>\n",
       "    <tr>\n",
       "      <th>78</th>\n",
       "      <td>12.1</td>\n",
       "      <td>48.739157</td>\n",
       "    </tr>\n",
       "    <tr>\n",
       "      <th>79</th>\n",
       "      <td>12.4</td>\n",
       "      <td>46.007937</td>\n",
       "    </tr>\n",
       "  </tbody>\n",
       "</table>\n",
       "<p>80 rows × 2 columns</p>\n",
       "</div>"
      ],
      "text/plain": [
       "    temp      sales\n",
       "0   -4.1  10.900261\n",
       "1   -3.7  14.002524\n",
       "2   -3.0  15.928335\n",
       "3   -1.3  17.673681\n",
       "4   -0.5  19.463362\n",
       "..   ...        ...\n",
       "75   9.7  50.813741\n",
       "76  10.3  42.304739\n",
       "77  10.6  45.662019\n",
       "78  12.1  48.739157\n",
       "79  12.4  46.007937\n",
       "\n",
       "[80 rows x 2 columns]"
      ]
     },
     "execution_count": 5,
     "metadata": {},
     "output_type": "execute_result"
    }
   ],
   "source": [
    "np.random.seed(43052)\n",
    "temp = pd.read_csv('https://raw.githubusercontent.com/guebin/DV2022/master/posts/temp.csv').iloc[:,3].to_numpy()[:80]\n",
    "temp.sort()\n",
    "eps = np.random.randn(80)*3 # 오차\n",
    "icecream_sales = 20 + temp * 2.5 + eps \n",
    "df_train = pd.DataFrame({'temp':temp,'sales':icecream_sales})\n",
    "df_train"
   ]
  },
  {
   "cell_type": "code",
   "execution_count": null,
   "id": "8bc095e5-9def-450e-95ed-16cee8b1387f",
   "metadata": {},
   "outputs": [],
   "source": []
  }
 ],
 "metadata": {
  "kernelspec": {
   "display_name": "Python (hf)",
   "language": "python",
   "name": "hf"
  },
  "language_info": {
   "codemirror_mode": {
    "name": "ipython",
    "version": 3
   },
   "file_extension": ".py",
   "mimetype": "text/x-python",
   "name": "python",
   "nbconvert_exporter": "python",
   "pygments_lexer": "ipython3",
   "version": "3.10.13"
  }
 },
 "nbformat": 4,
 "nbformat_minor": 5
}
